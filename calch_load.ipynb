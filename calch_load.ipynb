{
 "cells": [
  {
   "cell_type": "code",
   "execution_count": 31,
   "metadata": {},
   "outputs": [
    {
     "name": "stdout",
     "output_type": "stream",
     "text": [
      "imagenet\n",
      "torch.Size([512, 16000])\n",
      "caltech101\n",
      "max: tensor(1000, device='cuda:0')\n",
      "torch.Size([512, 1600])\n",
      "food101\n",
      "max: tensor(1100, device='cuda:0')\n",
      "torch.Size([512, 1616])\n",
      "stanford_cars\n",
      "max: tensor(1201, device='cuda:0')\n",
      "torch.Size([512, 3136])\n",
      "oxford_pets\n",
      "max: tensor(1397, device='cuda:0')\n",
      "torch.Size([512, 592])\n",
      "oxford_flowers\n",
      "max: tensor(1434, device='cuda:0')\n",
      "torch.Size([512, 1632])\n",
      "fgvc\n",
      "max: tensor(1536, device='cuda:0')\n",
      "torch.Size([512, 1600])\n",
      "sun397\n",
      "max: tensor(1636, device='cuda:0')\n",
      "torch.Size([512, 6352])\n",
      "dtd\n",
      "max: tensor(2033, device='cuda:0')\n",
      "torch.Size([512, 752])\n",
      "eurosat\n",
      "max: tensor(2080, device='cuda:0')\n",
      "torch.Size([512, 160])\n",
      "ucf101\n",
      "max: tensor(2090, device='cuda:0')\n",
      "torch.Size([512, 1616])\n",
      "torch.Size([512, 35056]) torch.Size([35056])\n",
      "torch.Size([35056, 2191])\n"
     ]
    }
   ],
   "source": [
    "import torch\n",
    "import torch.nn.functional as F\n",
    "arr = ['imagenet','caltech101', 'food101', 'stanford_cars', 'oxford_pets', 'oxford_flowers', 'fgvc', 'sun397','dtd',  'eurosat', 'ucf101']\n",
    "#arr = ['dtd',  'eurosat', 'oxford_pets']\n",
    "#ImageNet,Caltech101,Food101,StanfordCars,OxfordPets,OxfordFlowers,FGVCAircraft,SUN397,DescribableTextures,EuroSAT,UCF101\n",
    "keys = []\n",
    "val = []\n",
    "l= 0\n",
    "max = 0\n",
    "\n",
    "for i in range(len(arr)):\n",
    "    print(arr[i])\n",
    "    if i == 0:\n",
    "        max = 0\n",
    "        cache_values = torch.load('caches2/' + arr[i] + '/values_' + str(16) + \"shots.pt\")\n",
    "        cache_values += max\n",
    "        val.append(cache_values)\n",
    "        \n",
    "    else:\n",
    "        cache_values_p = torch.load('caches2/' + arr[i-1] + '/values_' + str(16) + \"shots.pt\")\n",
    "        cache_values = torch.load('caches2/' + arr[i] + '/values_' + str(16) + \"shots.pt\")\n",
    "        max = max + torch.max(cache_values_p)+1\n",
    "        print('max:',max)\n",
    "        cache_values += max\n",
    "        val.append(cache_values)\n",
    "    \n",
    "    cache_keys = torch.load('caches2/' + arr[i] + '/keys_' + str(16) + \"shots.pt\")\n",
    "    keys.append(cache_keys)\n",
    "    print(cache_keys.size())\n",
    "\n",
    "x = torch.cat(keys, dim=1)\n",
    "y = torch.cat(val, dim=0)\n",
    "z = F.one_hot(y).half()\n",
    "torch.save(x, 'caches2/' + '/multi_task_keys_' + str(16) + \"shots.pt\")\n",
    "torch.save(z, 'caches2/' + '/multi_task_values_' + str(16) + \"shots.pt\")\n",
    "print(x.size(),y.size())\n",
    "print(z.size())"
   ]
  },
  {
   "cell_type": "code",
   "execution_count": null,
   "metadata": {},
   "outputs": [],
   "source": []
  }
 ],
 "metadata": {
  "kernelspec": {
   "display_name": "torch171",
   "language": "python",
   "name": "torch171"
  },
  "language_info": {
   "codemirror_mode": {
    "name": "ipython",
    "version": 3
   },
   "file_extension": ".py",
   "mimetype": "text/x-python",
   "name": "python",
   "nbconvert_exporter": "python",
   "pygments_lexer": "ipython3",
   "version": "3.8.13"
  }
 },
 "nbformat": 4,
 "nbformat_minor": 4
}
